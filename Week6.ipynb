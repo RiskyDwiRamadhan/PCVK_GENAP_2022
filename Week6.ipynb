{
  "nbformat": 4,
  "nbformat_minor": 0,
  "metadata": {
    "colab": {
      "name": "Untitled2.ipynb",
      "provenance": [],
      "authorship_tag": "ABX9TyOO43JWjzgUTbZjAgmYrXyo",
      "include_colab_link": true
    },
    "kernelspec": {
      "name": "python3",
      "display_name": "Python 3"
    },
    "language_info": {
      "name": "python"
    }
  },
  "cells": [
    {
      "cell_type": "markdown",
      "metadata": {
        "id": "view-in-github",
        "colab_type": "text"
      },
      "source": [
        "<a href=\"https://colab.research.google.com/github/RiskyDwiRamadhan/PCVK_GENAP_2022/blob/main/Week6.ipynb\" target=\"_parent\"><img src=\"https://colab.research.google.com/assets/colab-badge.svg\" alt=\"Open In Colab\"/></a>"
      ]
    },
    {
      "cell_type": "code",
      "execution_count": null,
      "metadata": {
        "id": "LGt6-y44jjHr"
      },
      "outputs": [],
      "source": [
        "from google.colab import drive\n",
        "\n",
        "# Accesing My Google Drive\n",
        "drive.mount('/content/drive')"
      ]
    },
    {
      "cell_type": "code",
      "source": [
        "import cv2 as cv\n",
        "from google.colab.patches import cv2_imshow\n",
        "from skimage import io \n",
        "import matplotlib.pyplot as plt\n",
        "import numpy as np\n",
        "import math\n",
        "import os\n",
        "import glob"
      ],
      "metadata": {
        "id": "dMTQRtFKjtAg"
      },
      "execution_count": null,
      "outputs": []
    },
    {
      "cell_type": "code",
      "source": [
        "lena_original = cv.imread('/content/drive/MyDrive/PCVK_MM/Images/lena.jpg')\n",
        "\n",
        "height, width, depth = np.shape(lena_original)\n",
        "names = np.arange(256)\n",
        "\n",
        "b = [0]*256\n",
        "g = [0]*256\n",
        "r = [0]*256\n",
        "\n",
        "for y in range(0,height) :\n",
        "  for x in range(0,width) :\n",
        "    b[lena_original[y][x][0]] += 1\n",
        "    g[lena_original[y][x][1]] += 1\n",
        "    r[lena_original[y][x][2]] += 1\n",
        "\n",
        "names = np.arange(256)\n",
        "fig, axs = plt.subplots(1, 3, figsize=[20,5], sharex=True, sharey=True)\n",
        "fig.suptitle('Histogram RGB plot')\n",
        "fig.text(0.09, 0.5, 'Jumlah Kemunculan', va='center', rotation='vertical')\n",
        "fig.text(0.5, 0.04, 'Intensitas Warna', ha='center')\n",
        "axs[0].bar(names, r, color='red')\n",
        "axs[1].bar(names, g, color='green')\n",
        "axs[2].bar(names, b, color='blue')"
      ],
      "metadata": {
        "id": "CDQeiU9PjtCw"
      },
      "execution_count": null,
      "outputs": []
    },
    {
      "cell_type": "code",
      "source": [
        "# Membuat Histogram Image\n",
        "colors = (\"R\",\"G\",\"B\")\n",
        "channel_ids = (2, 1, 0)\n",
        "\n",
        "# Membuat Histogram Plot\n",
        "plt.xlim([0, 256])\n",
        "for channel_id, c in zip(channel_ids, colors):\n",
        "  histogram, bin_edges = np.histogram(\n",
        "      lena_original[:, :, channel_id], bins=256, range =(0,256)\n",
        "  )\n",
        "  plt.plot(bin_edges[0:-1], histogram, color=c)\n",
        "\n",
        "  plt.xlabel(\"Intensitas Warna\")\n",
        "  plt.ylabel(\"Jumlah kemunculan\")\n",
        "\n",
        "  plt.show()"
      ],
      "metadata": {
        "id": "BJoDOgS2jtGP"
      },
      "execution_count": null,
      "outputs": []
    },
    {
      "cell_type": "code",
      "source": [
        "lena_lc = cv.imread('/content/drive/MyDrive/PCVK_MM/Images/lena_lc.jpg')\n",
        "\n",
        "def histog(lena_lc):\n",
        " height, width, depth = np.shape(lena_lc) \n",
        " ax = np.zeros((3,256)) \n",
        " for y in range(0,height) : \n",
        "   for x in range(0,width) :\n",
        "     ax[0][lena_lc[y][x][0]] += 1 \n",
        "     ax[1][lena_lc[y][x][1]] += 1\n",
        "     ax[2][lena_lc[y][x][2]] += 1 \n",
        " return ax\n",
        "\n",
        "histo_asli = histog(lena_lc)\n",
        "lena_lc_array = np.asarray(lena_lc)\n",
        "histogram_array = np.bincount(lena_lc_array.flatten(), minlength=256)\n",
        "\n",
        "num_pixels = np. sum(histogram_array) \n",
        "histogram_array = histogram_array/num_pixels\n",
        "chistogram_array = np.cumsum(histogram_array)\n",
        "\n",
        "transform_map = np.floor(255 * chistogram_array). astype (np.uint8)\n",
        "img_list = list(lena_lc_array.flatten())\n",
        "\n",
        "eq_img_list = [transform_map[p] for p in img_list]\n",
        "\n",
        "eq_img_array = np.reshape(np.asarray(eq_img_list), lena_lc_array.shape) \n",
        "img2 = eq_img_array\n",
        "\n",
        "equal_histo = histog(img2)\n",
        "\n",
        "final_frame = cv.hconcat((lena_lc, img2)) \n",
        "cv2_imshow(final_frame)\n",
        "\n",
        "names = np.arange (256) \n",
        "isgrayimg = np.array_equal(b, g, r) \n",
        "if (isgrayimg == False):\n",
        "  fig, axs = plt.subplots(2, 3, figsize=[20,5], sharex=True, sharey=True) \n",
        "  fig.suptitle('Histogram RGB plot') \n",
        "  fig.text(0.09, 0.5, 'Jumlah Kemunculan', va='center', rotation='vertical') \n",
        "  fig.text(0.5, 0.04, 'Intensitas Warna', ha='center') \n",
        "  axs[0,0].bar(names, histo_asli[2], color='red') \n",
        "  axs[0,1].bar(names, histo_asli[1], color='green') \n",
        "  axs[0,2].bar(names, histo_asli[0], color='blue') \n",
        "  axs[1,0].bar(names, equal_histo[2], color='red') \n",
        "  axs[1,1].bar(names, equal_histo[1], color='green')\n",
        "  axs[1,2].bar(names, equal_histo[0], color='blue') \n",
        "else:\n",
        "  fig, axs = plt. subplots(1, 2, figsize=[20,5], sharex=Trbe, sharey=True) \n",
        "  fig. suptitle('Histogram RGB plot') \n",
        "  fig.text(0.09, 0.5, 'Jumlah Kemunculan', va='center', rotation='vertical') \n",
        "  fig.text(0.5, 0.94, 'Intensitas Warna', ha='center') \n",
        "  axs[0,0].bar(names, histo_asli[2], color='gray') \n",
        "  axs[0,1].bar(names, equal_histo[2], color='gray')"
      ],
      "metadata": {
        "id": "fKgbeloNjtIV"
      },
      "execution_count": null,
      "outputs": []
    },
    {
      "cell_type": "code",
      "source": [
        "lena_lc = cv.imread('/content/drive/MyDrive/PCVK_MM/Images/lena_lc.jpg')\n",
        "channels = cv.split(lena_lc)\n",
        "eq_channels = []\n",
        "for ch, color in zip(channels, ['R', 'G', 'B']):\n",
        "  eq_channels.append(cv.equalizeHist(ch))\n",
        "eq_image = cv.merge(eq_channels)\n",
        "equal_histo = histog(eq_image)\n",
        "\n",
        "final_frame = cv.hconcat((lena_lc, eq_image))\n",
        "cv2_imshow(final_frame)\n",
        "\n",
        "names = np.arange(256)\n",
        "isgraying = np.array_equal(b, g, r)\n",
        "if (isgraying == False):\n",
        "  fig, axs = plt.subplots(2, 3, figsize=[20,5], sharex=True, sharey =True)\n",
        "  fig.suptitle('Histogram RGB plot')\n",
        "  fig.text(0.09, 0.5, 'Total Appearances Point', va='center', rotation='vertical')\n",
        "  fig.text(0.5, 0.04, 'Color Intensity', ha='center')\n",
        "  axs[0,0].bar(names, histo_asli[2], color='red')\n",
        "  axs[0,1].bar(names, histo_asli[1], color='green')\n",
        "  axs[0,2].bar(names, histo_asli[0], color='blue')\n",
        "  axs[1,0].bar(names, equal_histo[2], color='red')\n",
        "  axs[1,1].bar(names, equal_histo[1], color='green')\n",
        "  axs[1,2].bar(names, equal_histo[0], color='blue')\n",
        "else:\n",
        "  fig, axs = plt.subplots(1, 2, figsize=[20,5], sharex=True, sharey=True)\n",
        "  fig.suptitle('Histogram RGB plot')\n",
        "  fig.text(0.09, 0.5, 'Total Appearances Point', va='center', rotation='vertical')\n",
        "  fig.text(0.5, 0.04, 'Color Intensity', ha='center')\n",
        "  axs[0,0].bar(names, histo_asli[2], color='gray')\n",
        "  axs[0,1].bar(names, equal_histo[2], color='gray')"
      ],
      "metadata": {
        "id": "jy2yk8RMjtKm"
      },
      "execution_count": null,
      "outputs": []
    },
    {
      "cell_type": "code",
      "source": [
        "lena_original = cv.imread('/content/drive/MyDrive/PCVK_MM/Images/lena.jpg')\n",
        "\n",
        "def warnaTerdekat (r, g, b):\n",
        "  pValue = 0\n",
        "  minDistance = 255*255 + 255*255 + 255*255 + 1\n",
        "  warnaPallette = [[0, 0, 0], [255, 0, 0], [0, 255, 0], [255, 255, 0], [0, 0, 255], [255, 0, 255], [0, 255, 255], [255, 255, 255]]\n",
        "  for i in range(len(warnaPallette)):\n",
        "    rDiff = r - warnaPallette[i][0]\n",
        "    gDiff = g - warnaPallette[i][1]\n",
        "    bDiff = b - warnaPallette[i][2]\n",
        "    distance = rDiff*rDiff + gDiff*gDiff + bDiff*bDiff\n",
        "    if (distance < minDistance):\n",
        "      minDistance = distance\n",
        "      pValue = i\n",
        "  return pValue\n",
        "\n",
        "warnaPallette = [[0, 0, 0], [255, 0, 0], [0, 255, 0], [255, 255, 0], [0, 0, 255], [255, 0, 255], [0, 255, 255], [255, 255, 255]]\n",
        "img_16jt = cv.cvtColor(lena_original, cv.COLOR_BGR2RGB)\n",
        "img_8 = np.zeros(img_16jt.shape, img_16jt.dtype)\n",
        "\n",
        "for y in range(0, img_16jt.shape[0]):\n",
        "  for x in range(0, img_16jt.shape[1]):\n",
        "    baru = warnaTerdekat(img_16jt[y, x, 0], img_16jt[y, x, 1], img_16jt[y, x, 2])\n",
        "    img_8[y, x] = warnaPallette[baru]\n",
        "    \n",
        "img_16jt = cv.cvtColor(img_16jt, cv.COLOR_BGR2RGB)\n",
        "img_8 = cv.cvtColor(img_8, cv.COLOR_BGR2RGB)\n",
        "final_frame = cv.hconcat((img_16jt, img_8))\n",
        "cv2_imshow(final_frame)"
      ],
      "metadata": {
        "id": "n2BY1Z65jtNK"
      },
      "execution_count": null,
      "outputs": []
    },
    {
      "cell_type": "code",
      "source": [
        "from PIL import Image\n",
        "import cv2\n",
        "import numpy as np\n",
        "\n",
        "imageConvert = Image.open('/content/drive/MyDrive/PCVK_MM/Images/wiki.jpg').convert(mode='1',dither=Image.FLOYDSTEINBERG)\n",
        "imageConvert.save('/content/drive/MyDrive/PCVK_MM/Images/wiki.jpg')\n",
        "\n",
        "Image = cv2.imread('/content/drive/MyDrive/PCVK_MM/Images/wiki.jpg')\n",
        "\n",
        "GrayImage = cv2.cvtColor(Image, cv2.COLOR_BGR2GRAY)\n",
        "cv2.imwrite('/content/drive/MyDrive/PCVK_MM/Images/wiki.jpg', GrayImage)\n",
        "\n",
        "Height = GrayImage.shape[0]\n",
        "Width = GrayImage.shape[1]\n",
        "\n",
        "for y in range(0, Height):\n",
        "    for x in range(0, Width):\n",
        "\n",
        "        old_value = GrayImage[y, x]\n",
        "        new_value = 0\n",
        "        if (old_value > 128) :\n",
        "            new_value = 255\n",
        "\n",
        "        GrayImage[y, x] = new_value\n",
        "\n",
        "        Error = old_value - new_value\n",
        "\n",
        "        if (x<Width-1):\n",
        "            NewNumber = GrayImage[y, x+1] + Error * 7 / 16\n",
        "            if (NewNumber>255) : NewNumber=255\n",
        "            elif (NewNumber<0) : NewNumber=0\n",
        "            GrayImage[y, x+1] = NewNumber\n",
        "\n",
        "        if (x>0 and y<Height-1):\n",
        "            NewNumber = GrayImage[y+1, x-1] + Error * 3 / 16\n",
        "            if (NewNumber>255) : NewNumber=255\n",
        "            elif (NewNumber<0) : NewNumber=0\n",
        "            GrayImage[y+1, x-1] = NewNumber\n",
        "\n",
        "        if (y<Height-1):\n",
        "            NewNumber= GrayImage[y+1, x] + Error * 5 / 16\n",
        "            if (NewNumber>255) : NewNumber=255\n",
        "            elif (NewNumber<0) : NewNumber=0\n",
        "            GrayImage[y+1, x] = NewNumber\n",
        "\n",
        "        if (y<Height-1 and x<Width-1):\n",
        "            NewNumber = GrayImage[y+1, x+1] + Error * 1 / 16\n",
        "            if (NewNumber>255) : NewNumber=255\n",
        "            elif (NewNumber<0) : NewNumber=0\n",
        "            GrayImage[y+1, x+1] = NewNumber\n",
        "\n",
        "cv2.imwrite('/content/drive/MyDrive/PCVK_MM/Images/wiki.jpg', GrayImage)\n",
        "cv2_imshow(GrayImage)"
      ],
      "metadata": {
        "id": "68xH7yRPkLsm"
      },
      "execution_count": null,
      "outputs": []
    }
  ]
}