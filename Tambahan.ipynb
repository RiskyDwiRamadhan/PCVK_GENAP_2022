{
  "nbformat": 4,
  "nbformat_minor": 0,
  "metadata": {
    "colab": {
      "name": "Tambahan.ipynb",
      "provenance": [],
      "authorship_tag": "ABX9TyN/D354tgxq3iTo2GVpiXLN",
      "include_colab_link": true
    },
    "kernelspec": {
      "name": "python3",
      "display_name": "Python 3"
    },
    "language_info": {
      "name": "python"
    }
  },
  "cells": [
    {
      "cell_type": "markdown",
      "metadata": {
        "id": "view-in-github",
        "colab_type": "text"
      },
      "source": [
        "<a href=\"https://colab.research.google.com/github/RiskyDwiRamadhan/PCVK_GENAP_2022/blob/main/Tambahan.ipynb\" target=\"_parent\"><img src=\"https://colab.research.google.com/assets/colab-badge.svg\" alt=\"Open In Colab\"/></a>"
      ]
    },
    {
      "cell_type": "markdown",
      "source": [
        "# Perkalian Matrik"
      ],
      "metadata": {
        "id": "FTYyH10A9cU4"
      }
    },
    {
      "cell_type": "code",
      "execution_count": 9,
      "metadata": {
        "colab": {
          "base_uri": "https://localhost:8080/"
        },
        "id": "0Qnuhyxb9UEr",
        "outputId": "d61451f8-e5ad-4dd7-e3c7-e59d0bad1c01"
      },
      "outputs": [
        {
          "output_type": "stream",
          "name": "stdout",
          "text": [
            "Perkalian Matrik\n",
            "8 7 26 \n",
            "27 29 25 \n",
            "15 11 27 \n"
          ]
        }
      ],
      "source": [
        "mat1 = [\n",
        "    [5, 0, 1],\n",
        "    [2, 4, 3],\n",
        "    [4, 2, 1],\n",
        "]\n",
        "\n",
        "mat2 = [\n",
        "    [1, 0, 5],\n",
        "    [4, 2, 3],\n",
        "    [3, 7, 1],\n",
        "]\n",
        "\n",
        "mat3 = []\n",
        "\n",
        "print(\"Perkalian Matrik\")\n",
        "\n",
        "for x in range(0, len(mat1)):\n",
        "    row = []\n",
        "    for y in range(0, len(mat1[0])):\n",
        "        total = 0\n",
        "        for z in range(0, len(mat1)):\n",
        "            total = total + (mat1[x][z] * mat2[z][y])\n",
        "        row.append(total)\n",
        "    mat3.append(row)\n",
        "    \n",
        "for x in range(0, len(mat3)):\n",
        "    for y in range(0, len(mat3[0])):\n",
        "        print (mat3[x][y], end=' ')\n",
        "    print ()"
      ]
    },
    {
      "cell_type": "markdown",
      "source": [
        ""
      ],
      "metadata": {
        "id": "U9PjQXDi_BVS"
      }
    },
    {
      "cell_type": "code",
      "source": [
        ""
      ],
      "metadata": {
        "id": "36_utiBp_AfC"
      },
      "execution_count": null,
      "outputs": []
    }
  ]
}