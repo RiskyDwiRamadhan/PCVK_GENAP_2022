{
  "nbformat": 4,
  "nbformat_minor": 0,
  "metadata": {
    "colab": {
      "name": "Week12.ipynb",
      "provenance": [],
      "authorship_tag": "ABX9TyPU6Zg5uAsnx+tAWrXN/fK4",
      "include_colab_link": true
    },
    "kernelspec": {
      "name": "python3",
      "display_name": "Python 3"
    },
    "language_info": {
      "name": "python"
    }
  },
  "cells": [
    {
      "cell_type": "markdown",
      "metadata": {
        "id": "view-in-github",
        "colab_type": "text"
      },
      "source": [
        "<a href=\"https://colab.research.google.com/github/RiskyDwiRamadhan/PCVK_GENAP_2022/blob/main/Week12.ipynb\" target=\"_parent\"><img src=\"https://colab.research.google.com/assets/colab-badge.svg\" alt=\"Open In Colab\"/></a>"
      ]
    },
    {
      "cell_type": "code",
      "execution_count": 1,
      "metadata": {
        "id": "AzHQYyL2RZ0W"
      },
      "outputs": [],
      "source": [
        "# Melakukan import beberapa library yang dibutuhkan\n",
        "import cv2 as cv\n",
        "from google.colab.patches import cv2_imshow\n",
        "import numpy as np\n",
        "import matplotlib.pyplot as plt"
      ]
    },
    {
      "cell_type": "code",
      "source": [
        "# Meminta izin untuk mengakses drive\n",
        "from google.colab import drive\n",
        "\n",
        "drive.mount('/content/drive')"
      ],
      "metadata": {
        "colab": {
          "base_uri": "https://localhost:8080/"
        },
        "id": "IiSPWwoHTZ9Y",
        "outputId": "08b022e4-e47a-4159-c9a6-82d3701afc2c"
      },
      "execution_count": 2,
      "outputs": [
        {
          "output_type": "stream",
          "name": "stdout",
          "text": [
            "Mounted at /content/drive\n"
          ]
        }
      ]
    },
    {
      "cell_type": "markdown",
      "source": [
        "## ORB Descriptor"
      ],
      "metadata": {
        "id": "sH2oazfcT2Po"
      }
    },
    {
      "cell_type": "code",
      "source": [
        "def display(img, cmap='gray'):\n",
        "  fig = plt.figure(figsize=(12,10))\n",
        "  ax = fig.add_subplot(111)\n",
        "  ax.imshow(img,cmap='gray')"
      ],
      "metadata": {
        "id": "6LSrPt1LTaBk"
      },
      "execution_count": 3,
      "outputs": []
    },
    {
      "cell_type": "code",
      "source": [
        "reeses = cv.imread('/PCVK/Pertemuan12/reeses_puffs.png', 0)\n",
        "display(reeses)"
      ],
      "metadata": {
        "colab": {
          "base_uri": "https://localhost:8080/",
          "height": 923
        },
        "id": "cx_8FQ6yTaEI",
        "outputId": "2460c295-bc5d-452e-cb0d-010cf53af191"
      },
      "execution_count": 5,
      "outputs": [
        {
          "output_type": "error",
          "ename": "TypeError",
          "evalue": "ignored",
          "traceback": [
            "\u001b[0;31m---------------------------------------------------------------------------\u001b[0m",
            "\u001b[0;31mTypeError\u001b[0m                                 Traceback (most recent call last)",
            "\u001b[0;32m<ipython-input-5-f473144e0d22>\u001b[0m in \u001b[0;36m<module>\u001b[0;34m()\u001b[0m\n\u001b[1;32m      1\u001b[0m \u001b[0mreeses\u001b[0m \u001b[0;34m=\u001b[0m \u001b[0mcv\u001b[0m\u001b[0;34m.\u001b[0m\u001b[0mimread\u001b[0m\u001b[0;34m(\u001b[0m\u001b[0;34m'/PCVK/Pertemuan12/reeses_puffs.png'\u001b[0m\u001b[0;34m,\u001b[0m \u001b[0;36m0\u001b[0m\u001b[0;34m)\u001b[0m\u001b[0;34m\u001b[0m\u001b[0;34m\u001b[0m\u001b[0m\n\u001b[0;32m----> 2\u001b[0;31m \u001b[0mdisplay\u001b[0m\u001b[0;34m(\u001b[0m\u001b[0mreeses\u001b[0m\u001b[0;34m)\u001b[0m\u001b[0;34m\u001b[0m\u001b[0;34m\u001b[0m\u001b[0m\n\u001b[0m",
            "\u001b[0;32m<ipython-input-3-33ea17a8527f>\u001b[0m in \u001b[0;36mdisplay\u001b[0;34m(img, cmap)\u001b[0m\n\u001b[1;32m      2\u001b[0m   \u001b[0mfig\u001b[0m \u001b[0;34m=\u001b[0m \u001b[0mplt\u001b[0m\u001b[0;34m.\u001b[0m\u001b[0mfigure\u001b[0m\u001b[0;34m(\u001b[0m\u001b[0mfigsize\u001b[0m\u001b[0;34m=\u001b[0m\u001b[0;34m(\u001b[0m\u001b[0;36m12\u001b[0m\u001b[0;34m,\u001b[0m\u001b[0;36m10\u001b[0m\u001b[0;34m)\u001b[0m\u001b[0;34m)\u001b[0m\u001b[0;34m\u001b[0m\u001b[0;34m\u001b[0m\u001b[0m\n\u001b[1;32m      3\u001b[0m   \u001b[0max\u001b[0m \u001b[0;34m=\u001b[0m \u001b[0mfig\u001b[0m\u001b[0;34m.\u001b[0m\u001b[0madd_subplot\u001b[0m\u001b[0;34m(\u001b[0m\u001b[0;36m111\u001b[0m\u001b[0;34m)\u001b[0m\u001b[0;34m\u001b[0m\u001b[0;34m\u001b[0m\u001b[0m\n\u001b[0;32m----> 4\u001b[0;31m   \u001b[0max\u001b[0m\u001b[0;34m.\u001b[0m\u001b[0mimshow\u001b[0m\u001b[0;34m(\u001b[0m\u001b[0mimg\u001b[0m\u001b[0;34m,\u001b[0m\u001b[0mcmap\u001b[0m\u001b[0;34m=\u001b[0m\u001b[0;34m'gray'\u001b[0m\u001b[0;34m)\u001b[0m\u001b[0;34m\u001b[0m\u001b[0;34m\u001b[0m\u001b[0m\n\u001b[0m",
            "\u001b[0;32m/usr/local/lib/python3.7/dist-packages/matplotlib/__init__.py\u001b[0m in \u001b[0;36minner\u001b[0;34m(ax, data, *args, **kwargs)\u001b[0m\n\u001b[1;32m   1563\u001b[0m     \u001b[0;32mdef\u001b[0m \u001b[0minner\u001b[0m\u001b[0;34m(\u001b[0m\u001b[0max\u001b[0m\u001b[0;34m,\u001b[0m \u001b[0;34m*\u001b[0m\u001b[0margs\u001b[0m\u001b[0;34m,\u001b[0m \u001b[0mdata\u001b[0m\u001b[0;34m=\u001b[0m\u001b[0;32mNone\u001b[0m\u001b[0;34m,\u001b[0m \u001b[0;34m**\u001b[0m\u001b[0mkwargs\u001b[0m\u001b[0;34m)\u001b[0m\u001b[0;34m:\u001b[0m\u001b[0;34m\u001b[0m\u001b[0;34m\u001b[0m\u001b[0m\n\u001b[1;32m   1564\u001b[0m         \u001b[0;32mif\u001b[0m \u001b[0mdata\u001b[0m \u001b[0;32mis\u001b[0m \u001b[0;32mNone\u001b[0m\u001b[0;34m:\u001b[0m\u001b[0;34m\u001b[0m\u001b[0;34m\u001b[0m\u001b[0m\n\u001b[0;32m-> 1565\u001b[0;31m             \u001b[0;32mreturn\u001b[0m \u001b[0mfunc\u001b[0m\u001b[0;34m(\u001b[0m\u001b[0max\u001b[0m\u001b[0;34m,\u001b[0m \u001b[0;34m*\u001b[0m\u001b[0mmap\u001b[0m\u001b[0;34m(\u001b[0m\u001b[0msanitize_sequence\u001b[0m\u001b[0;34m,\u001b[0m \u001b[0margs\u001b[0m\u001b[0;34m)\u001b[0m\u001b[0;34m,\u001b[0m \u001b[0;34m**\u001b[0m\u001b[0mkwargs\u001b[0m\u001b[0;34m)\u001b[0m\u001b[0;34m\u001b[0m\u001b[0;34m\u001b[0m\u001b[0m\n\u001b[0m\u001b[1;32m   1566\u001b[0m \u001b[0;34m\u001b[0m\u001b[0m\n\u001b[1;32m   1567\u001b[0m         \u001b[0mbound\u001b[0m \u001b[0;34m=\u001b[0m \u001b[0mnew_sig\u001b[0m\u001b[0;34m.\u001b[0m\u001b[0mbind\u001b[0m\u001b[0;34m(\u001b[0m\u001b[0max\u001b[0m\u001b[0;34m,\u001b[0m \u001b[0;34m*\u001b[0m\u001b[0margs\u001b[0m\u001b[0;34m,\u001b[0m \u001b[0;34m**\u001b[0m\u001b[0mkwargs\u001b[0m\u001b[0;34m)\u001b[0m\u001b[0;34m\u001b[0m\u001b[0;34m\u001b[0m\u001b[0m\n",
            "\u001b[0;32m/usr/local/lib/python3.7/dist-packages/matplotlib/cbook/deprecation.py\u001b[0m in \u001b[0;36mwrapper\u001b[0;34m(*args, **kwargs)\u001b[0m\n\u001b[1;32m    356\u001b[0m                 \u001b[0;34mf\"%(removal)s.  If any parameter follows {name!r}, they \"\u001b[0m\u001b[0;34m\u001b[0m\u001b[0;34m\u001b[0m\u001b[0m\n\u001b[1;32m    357\u001b[0m                 f\"should be pass as keyword, not positionally.\")\n\u001b[0;32m--> 358\u001b[0;31m         \u001b[0;32mreturn\u001b[0m \u001b[0mfunc\u001b[0m\u001b[0;34m(\u001b[0m\u001b[0;34m*\u001b[0m\u001b[0margs\u001b[0m\u001b[0;34m,\u001b[0m \u001b[0;34m**\u001b[0m\u001b[0mkwargs\u001b[0m\u001b[0;34m)\u001b[0m\u001b[0;34m\u001b[0m\u001b[0;34m\u001b[0m\u001b[0m\n\u001b[0m\u001b[1;32m    359\u001b[0m \u001b[0;34m\u001b[0m\u001b[0m\n\u001b[1;32m    360\u001b[0m     \u001b[0;32mreturn\u001b[0m \u001b[0mwrapper\u001b[0m\u001b[0;34m\u001b[0m\u001b[0;34m\u001b[0m\u001b[0m\n",
            "\u001b[0;32m/usr/local/lib/python3.7/dist-packages/matplotlib/cbook/deprecation.py\u001b[0m in \u001b[0;36mwrapper\u001b[0;34m(*args, **kwargs)\u001b[0m\n\u001b[1;32m    356\u001b[0m                 \u001b[0;34mf\"%(removal)s.  If any parameter follows {name!r}, they \"\u001b[0m\u001b[0;34m\u001b[0m\u001b[0;34m\u001b[0m\u001b[0m\n\u001b[1;32m    357\u001b[0m                 f\"should be pass as keyword, not positionally.\")\n\u001b[0;32m--> 358\u001b[0;31m         \u001b[0;32mreturn\u001b[0m \u001b[0mfunc\u001b[0m\u001b[0;34m(\u001b[0m\u001b[0;34m*\u001b[0m\u001b[0margs\u001b[0m\u001b[0;34m,\u001b[0m \u001b[0;34m**\u001b[0m\u001b[0mkwargs\u001b[0m\u001b[0;34m)\u001b[0m\u001b[0;34m\u001b[0m\u001b[0;34m\u001b[0m\u001b[0m\n\u001b[0m\u001b[1;32m    359\u001b[0m \u001b[0;34m\u001b[0m\u001b[0m\n\u001b[1;32m    360\u001b[0m     \u001b[0;32mreturn\u001b[0m \u001b[0mwrapper\u001b[0m\u001b[0;34m\u001b[0m\u001b[0;34m\u001b[0m\u001b[0m\n",
            "\u001b[0;32m/usr/local/lib/python3.7/dist-packages/matplotlib/axes/_axes.py\u001b[0m in \u001b[0;36mimshow\u001b[0;34m(self, X, cmap, norm, aspect, interpolation, alpha, vmin, vmax, origin, extent, shape, filternorm, filterrad, imlim, resample, url, **kwargs)\u001b[0m\n\u001b[1;32m   5624\u001b[0m                               resample=resample, **kwargs)\n\u001b[1;32m   5625\u001b[0m \u001b[0;34m\u001b[0m\u001b[0m\n\u001b[0;32m-> 5626\u001b[0;31m         \u001b[0mim\u001b[0m\u001b[0;34m.\u001b[0m\u001b[0mset_data\u001b[0m\u001b[0;34m(\u001b[0m\u001b[0mX\u001b[0m\u001b[0;34m)\u001b[0m\u001b[0;34m\u001b[0m\u001b[0;34m\u001b[0m\u001b[0m\n\u001b[0m\u001b[1;32m   5627\u001b[0m         \u001b[0mim\u001b[0m\u001b[0;34m.\u001b[0m\u001b[0mset_alpha\u001b[0m\u001b[0;34m(\u001b[0m\u001b[0malpha\u001b[0m\u001b[0;34m)\u001b[0m\u001b[0;34m\u001b[0m\u001b[0;34m\u001b[0m\u001b[0m\n\u001b[1;32m   5628\u001b[0m         \u001b[0;32mif\u001b[0m \u001b[0mim\u001b[0m\u001b[0;34m.\u001b[0m\u001b[0mget_clip_path\u001b[0m\u001b[0;34m(\u001b[0m\u001b[0;34m)\u001b[0m \u001b[0;32mis\u001b[0m \u001b[0;32mNone\u001b[0m\u001b[0;34m:\u001b[0m\u001b[0;34m\u001b[0m\u001b[0;34m\u001b[0m\u001b[0m\n",
            "\u001b[0;32m/usr/local/lib/python3.7/dist-packages/matplotlib/image.py\u001b[0m in \u001b[0;36mset_data\u001b[0;34m(self, A)\u001b[0m\n\u001b[1;32m    692\u001b[0m                 not np.can_cast(self._A.dtype, float, \"same_kind\")):\n\u001b[1;32m    693\u001b[0m             raise TypeError(\"Image data of dtype {} cannot be converted to \"\n\u001b[0;32m--> 694\u001b[0;31m                             \"float\".format(self._A.dtype))\n\u001b[0m\u001b[1;32m    695\u001b[0m \u001b[0;34m\u001b[0m\u001b[0m\n\u001b[1;32m    696\u001b[0m         if not (self._A.ndim == 2\n",
            "\u001b[0;31mTypeError\u001b[0m: Image data of dtype object cannot be converted to float"
          ]
        },
        {
          "output_type": "display_data",
          "data": {
            "text/plain": [
              "<Figure size 864x720 with 1 Axes>"
            ],
            "image/png": "[encoded data removed]"
          },
          "metadata": {
            "needs_background": "light"
          }
        }
      ]
    },
    {
      "cell_type": "code",
      "source": [
        "cereals = cv.imread('/PCVK/Pertemuan_12/many_cereals.jpg', 0)\n",
        "display(cereals)"
      ],
      "metadata": {
        "id": "m_X306iiTaGs"
      },
      "execution_count": null,
      "outputs": []
    },
    {
      "cell_type": "code",
      "source": [
        "orb = cv.ORB_create()\n",
        "kp1,des1 = orb.detectAndCompute(reeses, None)\n",
        "kp2,des2 = orb.detectAndCompute(cereals, None)\n",
        "bf = cv.BFMatcher(cv.NORM_HAMMING, crossCheck = True)\n",
        "matches = bf.match(des1,des2)\n",
        "single_match = matches[0]\n",
        "single_match.distance"
      ],
      "metadata": {
        "id": "UBEXo3NZTaJG"
      },
      "execution_count": null,
      "outputs": []
    },
    {
      "cell_type": "code",
      "source": [
        "len(matches)"
      ],
      "metadata": {
        "id": "cPXksIpGTaRk"
      },
      "execution_count": null,
      "outputs": []
    },
    {
      "cell_type": "code",
      "source": [
        "from sys import flags\n",
        "matches = sorted(matches, key=lambda x:x.distance)\n",
        "reeses_match = cv.drawMatches(reeses,kp1,cereals,kp2,matches[:25],None, flags=2)\n",
        "display(reeses_match)"
      ],
      "metadata": {
        "id": "0LxhxrkLTaTX"
      },
      "execution_count": null,
      "outputs": []
    },
    {
      "cell_type": "markdown",
      "source": [
        "# SIFT DEscriptor"
      ],
      "metadata": {
        "id": "l2_V0vx2T8w8"
      }
    },
    {
      "cell_type": "code",
      "source": [
        "!pip install opencv-contrib-python==4.4.0.44"
      ],
      "metadata": {
        "id": "atXJzVCSTaVj"
      },
      "execution_count": null,
      "outputs": []
    },
    {
      "cell_type": "code",
      "source": [
        "sift = cv.xfeatures2d.SIFT_create()\n",
        "kp1,des1 = sift.detectAndCompute(reeses, None)\n",
        "kp2,des2 = sift.detectAndCompute(cereals, None)\n",
        "bf = cv.BFMatcher()\n",
        "matches = bf.knnMatch(des1,des2,k=2)\n",
        "\n",
        "good = []\n",
        "\n",
        "# Makin kecil jarak makin cocok\n",
        "# Ratio match1 < 75% Match2\n",
        "for match1, match2 in matches:\n",
        "  #jika jarak match 1 lebih kecil dari jarak 75% match2 descriptor disimpan\n",
        "  if match1.distance < 0.75*match2.distance:\n",
        "    good.append([match1])\n",
        "\n",
        "len(good)"
      ],
      "metadata": {
        "id": "4_HT-7CZTaX-"
      },
      "execution_count": null,
      "outputs": []
    },
    {
      "cell_type": "code",
      "source": [
        "len(matches)"
      ],
      "metadata": {
        "id": "pJq8OfBpUEqE"
      },
      "execution_count": null,
      "outputs": []
    },
    {
      "cell_type": "code",
      "source": [
        "sift_matches = cv.drawMatchesKnn(reeses, kp1, cereals, kp2, good, None, flags=2)\n",
        "display(sift_matches)"
      ],
      "metadata": {
        "id": "jCQ5B7VkUEv2"
      },
      "execution_count": null,
      "outputs": []
    },
    {
      "cell_type": "markdown",
      "source": [
        "# Face Detection"
      ],
      "metadata": {
        "id": "xMvRk_4TUJs4"
      }
    },
    {
      "cell_type": "code",
      "source": [
        "cascade_wajah = cv.CascadeClassifier('/PCVK/Pertemuan_12/haarcascade_frontalface_alt2.xml')\n",
        "jokowi = cv.imread('/PCVK/Pertemuan_12/jokowi.jpg',0)\n",
        "roi_wajah = cascade_wajah.detectMultiScale(jokowi)\n",
        "for(x,y,w,h) in roi_wajah:\n",
        " cv.rectangle(jokowi,(x,y),(x+w,y+h),(255,255,255),3)\n",
        "plt.figure(figsize = (10,10))\n",
        "plt.imshow(jokowi, cmap='gray')"
      ],
      "metadata": {
        "id": "s2BT6PO_UEzM"
      },
      "execution_count": null,
      "outputs": []
    },
    {
      "cell_type": "markdown",
      "source": [
        "# TUGAS PRAKTIKUM"
      ],
      "metadata": {
        "id": "vx2om5XvUR79"
      }
    },
    {
      "cell_type": "code",
      "source": [
        "from IPython.display import display, Javascript, Image\n",
        "from google.colab.output import eval_js\n",
        "from base64 import b64decode, b64encode\n",
        "import cv2\n",
        "import PIL\n",
        "import io\n",
        "import html\n",
        "import time"
      ],
      "metadata": {
        "id": "uQrK4Z9xUOWr"
      },
      "execution_count": null,
      "outputs": []
    },
    {
      "cell_type": "code",
      "source": [
        "# Melakukan pengambilan gambar pada drive yang simpan pada 2 varibel untuk setiap gambarnya\n",
        "jokowi_1 = cv2.imread('/PCVK/Pertemuan_12/jokowi.jpg')\n",
        "jokowi_2 = cv2.imread('/PCVK/Pertemuan_12/jokowi.jpg')\n",
        "\n",
        "kartini_1 = cv2.imread('/PCVK/Pertemuan_12/kartini.jpg')\n",
        "kartini_2 = cv2.imread('/PCVK/Pertemuan_12/kartini.jpg')\n",
        "\n",
        "kucing_1 = cv2.imread('/PCVK/Pertemuan_12/kucing.jpg')\n",
        "kucing_2 = cv2.imread('/PCVK/Pertemuan_12/kucing.jpg')\n",
        "\n",
        "mask_1 = cv2.imread('/PCVK/Pertemuan_12/mask.png')\n",
        "mask_2 = cv2.imread('/PCVK/Pertemuan_12/mask.png')\n",
        "\n",
        "mjordan_1 = cv2.imread('/PCVK/Pertemuan_12/mjordan.jpg')\n",
        "mjordan_2 = cv2.imread('/PCVK/Pertemuan_12/mjordan.jpg')\n",
        "\n",
        "solvayconf_1 = cv2.imread('/PCVK/Pertemuan_12/solvayconf.jpg')\n",
        "solvayconf_2 = cv2.imread('/PCVK/Pertemuan_12/solvayconf.jpg')\n",
        "\n",
        "def convertToRGB(image):\n",
        "    return cv2.cvtColor(image, cv2.COLOR_BGR2RGB)\n",
        "\n",
        "faceCascade=cv2.CascadeClassifier(cv2.data.haarcascades + \"haarcascade_frontalface_default.xml\")\n",
        "def faceCascadeFunction(image, thickness):\n",
        "  faces_rects = faceCascade.detectMultiScale(image, scaleFactor = 1.2, minNeighbors = 5);\n",
        "  for (x,y,w,h) in faces_rects:\n",
        "      cv2.rectangle(image, (x, y), (x+w, y+h), (0, 255, 0), thickness)\n",
        "\n",
        "# Gambar Jokowi\n",
        "faceCascadeFunction(jokowi_2, 5)\n",
        "# Gambar Kartini\n",
        "faceCascadeFunction(kartini_2, 5)\n",
        "# Gambar Kucing\n",
        "faceCascadeFunction(kucing_2, 5)\n",
        "# Gambar Mask\n",
        "faceCascadeFunction(mask_2, 5)\n",
        "# Gambar Mjordan\n",
        "faceCascadeFunction(mjordan_2, 3)\n",
        "# Gambar Solvayconf\n",
        "faceCascadeFunction(solvayconf_2, 3)\n",
        "\n",
        "f, axarr = plt. subplots(6,2,figsize=(15,10)) # Untuk mengatur tabel dan ukuran gambar yang akan ditampilkan\n",
        "\n",
        "# Menampilkan setiap gambar\n",
        "plt.subplot(321),plt.imshow(convertToRGB(jokowi_1))\n",
        "plt.subplot(322),plt.imshow(convertToRGB(jokowi_2))\n",
        "\n",
        "plt.subplot(323),plt.imshow(convertToRGB(kartini_1))\n",
        "plt.subplot(324),plt.imshow(convertToRGB(kartini_2))\n",
        "\n",
        "plt.subplot(325),plt.imshow(convertToRGB(kucing_1))\n",
        "plt.subplot(326),plt.imshow(convertToRGB(kucing_2))\n",
        "\n",
        "f, axarr = plt. subplots(6,2,figsize=(15,10))\n",
        "plt.subplot(321),plt.imshow(convertToRGB(mask_1))\n",
        "plt.subplot(322),plt.imshow(convertToRGB(mask_2))\n",
        "\n",
        "plt.subplot(323),plt.imshow(convertToRGB(mjordan_1))\n",
        "plt.subplot(324),plt.imshow(convertToRGB(mjordan_2))\n",
        "\n",
        "plt.subplot(325),plt.imshow(convertToRGB(solvayconf_1))\n",
        "plt.subplot(326),plt.imshow(convertToRGB(solvayconf_2))"
      ],
      "metadata": {
        "id": "fxxv0dK6UObd"
      },
      "execution_count": null,
      "outputs": []
    },
    {
      "cell_type": "code",
      "source": [
        "jokowi = cv2.imread('/PCVK/Pertemuan_12/jokowi.jpg')\n",
        "jokowi_rgb = convertToRGB(jokowi)\n",
        "jokowi_fd = jokowi_rgb.copy()\n",
        "\n",
        "kartini = cv2.imread('/PCVK/Pertemuan_12/kartini.jpg',0)\n",
        "kartini_rgb = convertToRGB(kartini)\n",
        "kartini_fd = kartini_rgb.copy()\n",
        "\n",
        "kucing = cv2.imread('/PCVK/Pertemuan_12/kucing.jpg',0)\n",
        "kucing_rgb = convertToRGB(kucing)\n",
        "kucing_fd = kucing_rgb.copy()\n",
        "\n",
        "mask = cv2.imread('/PCVK/Pertemuan_12/mask.png',0)\n",
        "mask_rgb = convertToRGB(mask)\n",
        "mask_fd = mask_rgb.copy()\n",
        "\n",
        "mjordan = cv2.imread('/PCVK/Pertemuan_12/mjordan.jpg',0)\n",
        "mjordan_rgb = convertToRGB(mjordan)\n",
        "mjordan_fd = mjordan_rgb.copy()\n",
        "\n",
        "solvayconf = cv2.imread('/PCVK/Pertemuan_12/solvayconf.jpg',0)\n",
        "solvayconf_rgb = convertToRGB(solvayconf)\n",
        "solvayconf_fd = solvayconf_rgb.copy()\n",
        "\n",
        "cascade_wajah = cv2.CascadeClassifier('/PCVK/Pertemuan_12/haarcascade_frontalface_alt2.xml')\n",
        "def newFaceCascadeFunction(image_rgb, image):\n",
        "  fd_image = cascade_wajah.detectMultiScale(image)\n",
        "  for(x,y,w,h) in fd_image:\n",
        "    cv2.rectangle(image, (x,y),(x+w,y+h), (0,255,0), 3)\n",
        "  plt.figure(figsize = (10,10))\n",
        "  f, axarr = plt. subplots(1,2,figsize=(8,8))\n",
        "  plt.subplot(121),plt.imshow(image_rgb)\n",
        "  plt.subplot(122),plt.imshow(image)\n",
        "  plt.show()\n",
        "\n",
        "# Gambar Jokowi\n",
        "newFaceCascadeFunction(jokowi_rgb, jokowi_fd)\n",
        "# Gambar Kartini\n",
        "newFaceCascadeFunction(kartini_rgb, kartini_fd)\n",
        "# Gambar Kucing\n",
        "newFaceCascadeFunction(kucing_rgb, kucing_fd)\n",
        "# Gambar Mask\n",
        "newFaceCascadeFunction(mask_rgb, mask_fd)\n",
        "# Gambar Mjordan\n",
        "newFaceCascadeFunction(mjordan_rgb, mjordan_fd)\n",
        "# Gambar Solvayconf\n",
        "newFaceCascadeFunction(solvayconf_rgb, solvayconf_fd) "
      ],
      "metadata": {
        "id": "IELHD09UUOg-"
      },
      "execution_count": null,
      "outputs": []
    },
    {
      "cell_type": "code",
      "source": [
        "cascade_wajah = cv2.CascadeClassifier(cv2.data.haarcascades + \"haarcascade_frontalcatface.xml\")\n",
        "\n",
        "kucing = cv2.imread('/PCVK/Pertemuan_12/kucing.jpg', 0)\n",
        "kucing_ori = cv2.imread('/PCVK/Pertemuan_12/kucing.jpg', 0)\n",
        "\n",
        "roi_wajah = cascade_wajah.detectMultiScale(kucing_ori)\n",
        "for (x,y,w,h) in roi_wajah: \n",
        "  cv2.rectangle(kucing_ori,(x,y),(x+w,y+h),(0,255,0),3) \n",
        "plt.figure(figsize = (10,10))\n",
        "\n",
        "f, axarr = plt. subplots(1,2,figsize=(15,5))\n",
        "plt.subplot(121),plt.imshow(kucing, cmap='gray')\n",
        "plt.subplot(122),plt.imshow(kucing_ori, cmap='gray')\n",
        "plt.show()"
      ],
      "metadata": {
        "id": "zxMUozGaUOkI"
      },
      "execution_count": null,
      "outputs": []
    },
    {
      "cell_type": "code",
      "source": [
        "cascade_wajah = cv2.CascadeClassifier(cv2.data.haarcascades + \"haarcascade_eye.xml\")\n",
        "\n",
        "jokowi = cv2.imread('/PCVK/Pertemuan_12/jokowi.jpg')\n",
        "jokowi_ori = cv2.imread('/PCVK/Pertemuan_12/jokowi.jpg')\n",
        "jokowi_gray = cv2.cvtColor(jokowi, cv2.COLOR_BGR2GRAY)\n",
        "jokowi_ori_gray = cv2.cvtColor(jokowi_ori, cv2.COLOR_BGR2GRAY)\n",
        "\n",
        "roi_wajah = cascade_wajah.detectMultiScale(jokowi_gray)\n",
        "for (x,y,w,h) in roi_wajah: \n",
        "  cv2.rectangle(jokowi_gray,(x,y),(x+w,y+h),(255,255,255),3)\n",
        "\n",
        "# Plot outputs\n",
        "f, axarr = plt. subplots(1,2,figsize=(15,15))\n",
        "plt.subplot(121),plt.imshow(jokowi_ori_gray, cmap='gray')\n",
        "plt.subplot(122),plt.imshow(jokowi_gray, cmap='gray')\n",
        "plt.show()"
      ],
      "metadata": {
        "id": "3GxknuZKUqRL"
      },
      "execution_count": null,
      "outputs": []
    },
    {
      "cell_type": "code",
      "source": [
        "def js_to_image(js_reply):\n",
        "  image_bytes = b64decode(js_reply.split(',')[1])\n",
        "  jpg_as_np = np.frombuffer(image_bytes, dtype=np.uint8)\n",
        "  img = cv2.imdecode(jpg_as_np, flags=1)\n",
        "\n",
        "  return img\n",
        "\n",
        "\n",
        "def bbox_to_bytes(bbox_array):\n",
        "  bbox_PIL = PIL.Image.fromarray(bbox_array, 'RGBA')\n",
        "  iobuf = io.BytesIO()\n",
        "  bbox_PIL.save(iobuf, format='png')\n",
        "  bbox_bytes = 'data:image/png;base64,{}'.format((str(b64decode(iobuf.getvalue()), 'utf-8')))\n",
        "  \n",
        "  return bbox_to_bytes\n",
        "\n",
        "face_cascade = cv2.CascadeClassifier(cv2.samples.findFile(cv2.data.haarcascades + 'haarcascade_frontalface_default.xml'))"
      ],
      "metadata": {
        "id": "3pIi5nW3UqUQ"
      },
      "execution_count": null,
      "outputs": []
    },
    {
      "cell_type": "code",
      "source": [
        "def take_photo(filename='photo.jpg', quality=0.8):\n",
        "  js = Javascript('''\n",
        "    async function takePhoto(quality){\n",
        "      const div = document.createElement('div');\n",
        "      const capture = document.createElement('button');\n",
        "      capture.textContent = 'Capture';\n",
        "      div.appendChild(capture);\n",
        "\n",
        "      const video = document.createElement('video');\n",
        "      video.style.display = 'block';\n",
        "      const stream = await navigator.mediaDevices.getUserMedia({video: true});\n",
        "\n",
        "      document.body.appendChild(div);\n",
        "      div.appendChild(video);\n",
        "      video.srcObject = stream;\n",
        "      await video.play();\n",
        "\n",
        "      google.colab.output.setIframeHeight(document.documentElement.scrollHeight, true);\n",
        "\n",
        "      await new Promise((resolve) => capture.onclick = resolve);\n",
        "\n",
        "      const canvas = document.createElement('canvas');\n",
        "      canvas.width = video.videoWidth;\n",
        "      canvas.height = video.videoHeight;\n",
        "      canvas.getContext('2d').drawImage(video, 0, 0);\n",
        "      stream.getVideoTracks()[0].stop();\n",
        "      div.remove();\n",
        "      return canvas.toDataURL('image/jpeg', quality);\n",
        "    }\n",
        "    ''')\n",
        "  display(js)\n",
        "\n",
        "  data = eval_js('takePhoto({})'.format(quality))\n",
        "  img = js_to_image(data)\n",
        "  gray = cv2.cvtColor(img, cv2.COLOR_RGB2GRAY)\n",
        "  print(gray.shape)\n",
        "  faces = face_cascade.detectMultiScale(gray)\n",
        "  for(x,y,w,h) in faces:\n",
        "    img = cv2.rectangle(img,(x,y),(x+w,y+h),(255, 0, 0),2)\n",
        "\n",
        "  cv2.imwrite(filename, img)\n",
        "\n",
        "  return filename"
      ],
      "metadata": {
        "id": "Z6SE-SngUqbI"
      },
      "execution_count": null,
      "outputs": []
    },
    {
      "cell_type": "code",
      "source": [
        "try:\n",
        "  filename = take_photo('photo1.jpg')\n",
        "  print('Saved to {}'.format(filename))\n",
        "\n",
        "  display(Image(filename))\n",
        "except Exception as err:\n",
        "  print(str(err))"
      ],
      "metadata": {
        "id": "EmPwoCimU3qI"
      },
      "execution_count": null,
      "outputs": []
    },
    {
      "cell_type": "code",
      "source": [
        "image = cv2.imread('/PCVK/Pertemuan_12/mjordan.jpg') \n",
        "image = cv2.cvtColor(image, cv2.COLOR_BGR2GRAY) # konvert gambar menjadi abu-abu\n",
        "figure_size = 9 # the dimension of the x and y axis of the kernal.\n",
        "\n",
        "new_image = cv2.medianBlur(image, figure_size)\n",
        "f, axarr = plt. subplots(1,2,figsize=(15,15))\n",
        "plt.subplot(121), plt.imshow(image, cmap='gray'),plt.title('Original')\n",
        "plt.subplot(122), plt.imshow(new_image, cmap='gray'),plt.title('Median Filter')\n",
        "plt.show()"
      ],
      "metadata": {
        "id": "fkBcYtrbU3ut"
      },
      "execution_count": null,
      "outputs": []
    }
  ]
}